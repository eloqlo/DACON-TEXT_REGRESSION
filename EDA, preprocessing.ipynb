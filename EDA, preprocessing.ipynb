{
 "cells": [
  {
   "cell_type": "markdown",
   "metadata": {},
   "source": [
    "# Exploratory Data Analysis\n",
    "\n",
    "- https://dacon.io/competitions/official/235875/codeshare/4520?page=1&dtype=recent\n",
    "의 EDA과정을 참고하였음.\n",
    "- https://wikidocs.net/92961\n",
    "의 한국어 맞춤법 교정 과정을 참조하였음."
   ]
  },
  {
   "cell_type": "markdown",
   "metadata": {},
   "source": [
    "## Import Packages"
   ]
  },
  {
   "cell_type": "code",
   "execution_count": 1,
   "metadata": {},
   "outputs": [],
   "source": [
    "# !pip3 install pandas\n",
    "# !pip3 install matplotlib\n",
    "# !pip3 install torch"
   ]
  },
  {
   "cell_type": "code",
   "execution_count": 1,
   "metadata": {},
   "outputs": [],
   "source": [
    "import os\n",
    "\n",
    "import pandas as pd\n",
    "import numpy as np\n",
    "import matplotlib.pyplot as plt\n",
    "\n",
    "from tqdm import tqdm"
   ]
  },
  {
   "cell_type": "markdown",
   "metadata": {},
   "source": [
    "## Load Data"
   ]
  },
  {
   "cell_type": "code",
   "execution_count": 14,
   "metadata": {},
   "outputs": [],
   "source": [
    "# PATH = '~/Desktop/VSC/DACON/text_regression_task/dataset'   # MAC\n",
    "PATH = './dataset/' # Windows\n",
    "\n",
    "train_data = pd.read_csv(os.path.join(PATH, 'train.csv'), encoding='utf-8')     # 25000\n",
    "test_data = pd.read_csv(os.path.join(PATH, 'test.csv'), encoding='utf-8')       # 25000"
   ]
  },
  {
   "cell_type": "code",
   "execution_count": 4,
   "metadata": {},
   "outputs": [
    {
     "name": "stdout",
     "output_type": "stream",
     "text": [
      "   id                                            reviews  target\n",
      "0   0                                     조아요 처음구입 싸게햇어요       2\n",
      "1   1  생각보다 잘 안돼요 매지 바른지 하루밖에 안됐는데ㅠㅠ 25천원가량 주고 사기 너무 ...       1\n",
      "2   2  디자인은괜찮은데 상품이 금이가서 교환했는데 두번째받은상품도 까져있고 안쪽에 금이가져...       2\n",
      "3   3  기전에 이 제품말고 이마트 트레이더스에서만 팔던 프리미엄 제품을 사용했었습니다. 샘...       2\n",
      "4   4                                  튼튼하고 손목을 잘 받쳐주네요~       5\n",
      "5   5  배송은 먼저 구입하신 분들께서 오래걸린다고 하여 참고 기달렸습니다 생각보다 일찍도착...       2\n",
      "6   6  타이밍이 좋았는지 배송도 빠르고 맛있었어요! 크기가 두가지가 있길래 큰걸 사봤는데 ...       5\n",
      "7   7                                     상품 퀄리티가 좋지 않아요       2\n",
      "8   8              재구매 평소 사용하던 제품이에요. 한번에 쟁여두려 여러개 삽니다 .       5\n",
      "9   9                                      두께 때문에 별로네요..       2\n",
      "\n",
      "   id                                            reviews\n",
      "0   0                                     채소가 약간 시들어 있어요\n",
      "1   1  발톱 두껍고 단단한 분들 써도 소용없어요 이 테이프 물렁거리고 힘이없어서 들어 올리...\n",
      "2   2                           부들부들 좋네요 입어보고 시원하면 또 살게요\n",
      "3   3      이런 1. 8 골드 주라니깐 파란개 오네 회사전화걸어도 받지도 않고 머하자는거임?\n",
      "4   4       검수도 없이 보내구 불량 배송비 5000원 청구하네요 완전별로 별하나도 아까워요\n",
      "5   5                          흠 마무리가 넘 안좋아요 가격대비 그냥써봅니다\n",
      "6   6                 조금 찌거러져서 왔지만 그냥 써야죠 뭐.. 신경 좀 써주세요.\n",
      "7   7   잘 빠져요. 새다리들만 쓸수 있을듯해요.그냥 tv볼때 요거 위에다 다리올려놓고 봅니다.\n",
      "8   8                    재구매 가격저령하구요 상품질도 좋으네요~ 또이용하겠습니다\n",
      "9   9             재구매 아이가 너무 좋아합니다 배송도 빠르고 사은품도 너무 좋네요~~\n"
     ]
    }
   ],
   "source": [
    "\"\"\"\n",
    "id      : 평점 인덱스\n",
    "reviews : 리뷰\n",
    "target  : 평점\n",
    "\"\"\"\n",
    "\n",
    "pd.set_option('display.max_row', 500)\n",
    "pd.set_option('display.max_columns', 100)\n",
    "\n",
    "print(train_data.head(10), end='\\n\\n')\n",
    "print(test_data.head(10))"
   ]
  },
  {
   "cell_type": "markdown",
   "metadata": {},
   "source": [
    "## Train, Test Data Exploration\n"
   ]
  },
  {
   "cell_type": "code",
   "execution_count": 5,
   "metadata": {},
   "outputs": [
    {
     "name": "stdout",
     "output_type": "stream",
     "text": [
      "<class 'pandas.core.frame.DataFrame'>\n",
      "RangeIndex: 25000 entries, 0 to 24999\n",
      "Data columns (total 3 columns):\n",
      " #   Column   Non-Null Count  Dtype \n",
      "---  ------   --------------  ----- \n",
      " 0   id       25000 non-null  int64 \n",
      " 1   reviews  25000 non-null  object\n",
      " 2   target   25000 non-null  int64 \n",
      "dtypes: int64(2), object(1)\n",
      "memory usage: 586.1+ KB\n",
      "None\n",
      "\n",
      "<class 'pandas.core.frame.DataFrame'>\n",
      "RangeIndex: 25000 entries, 0 to 24999\n",
      "Data columns (total 2 columns):\n",
      " #   Column   Non-Null Count  Dtype \n",
      "---  ------   --------------  ----- \n",
      " 0   id       25000 non-null  int64 \n",
      " 1   reviews  25000 non-null  object\n",
      "dtypes: int64(1), object(1)\n",
      "memory usage: 390.8+ KB\n",
      "None\n"
     ]
    }
   ],
   "source": [
    "print(train_data.info())\n",
    "print()\n",
    "print(test_data.info())"
   ]
  },
  {
   "cell_type": "code",
   "execution_count": 6,
   "metadata": {},
   "outputs": [
    {
     "name": "stdout",
     "output_type": "stream",
     "text": [
      "Train Label: \n",
      "5    10000\n",
      "2     8000\n",
      "1     4500\n",
      "4     2500\n",
      "Name: target, dtype: int64\n",
      "\n"
     ]
    }
   ],
   "source": [
    "# 데이터 label별 균형 확인\n",
    "print('Train Label: ', train_data['target'].value_counts(), sep='\\n', end='\\n\\n' )"
   ]
  },
  {
   "cell_type": "markdown",
   "metadata": {},
   "source": [
    "Train data의 Label 분류 결과<br>\n",
    "5점이 10000개<br>\n",
    "4점이 2500개<br>\n",
    "3점이 0개<br>\n",
    "2점이 8000개<br>\n",
    "1점이 4500개<br>\n",
    "\n",
    "--> label 불균형 존재한다."
   ]
  },
  {
   "cell_type": "code",
   "execution_count": 7,
   "metadata": {},
   "outputs": [
    {
     "name": "stdout",
     "output_type": "stream",
     "text": [
      "Train Null: \n",
      "id         0\n",
      "reviews    0\n",
      "target     0\n",
      "dtype: int64\n",
      "\n",
      "Test Null: \n",
      "id         0\n",
      "reviews    0\n",
      "dtype: int64\n"
     ]
    }
   ],
   "source": [
    "# 결측지 확인\n",
    "print('Train Null: ', train_data.isnull().sum(), sep='\\n', end='\\n\\n')\n",
    "print('Test Null: ', test_data.isnull().sum(), sep='\\n')"
   ]
  },
  {
   "cell_type": "code",
   "execution_count": 8,
   "metadata": {},
   "outputs": [
    {
     "data": {
      "image/png": "[encoded data removed]",
      "text/plain": [
       "<Figure size 720x540 with 1 Axes>"
      ]
     },
     "metadata": {
      "needs_background": "light"
     },
     "output_type": "display_data"
    }
   ],
   "source": [
    "# label 분포\n",
    "feature = train_data['target']\n",
    "\n",
    "plt.figure(figsize = (10, 7.5))\n",
    "plt.title('Label Counting', fontsize=20)\n",
    "\n",
    "temp = feature.value_counts()\n",
    "## temp.values -> 5 2 1 4\n",
    "plt.bar(temp.keys(), temp.values, width=0.5, color='b', alpha=0.5)\n",
    "plt.text(4.85, temp.values[0]+20, s=temp.values[0]) # 5\n",
    "plt.text(1.85, temp.values[1]+20, s=temp.values[1]) # 2\n",
    "plt.text(0.85, temp.values[2]+20, s=temp.values[2]) # 1\n",
    "plt.text(3.85, temp.values[3]+20, s=temp.values[3]) # 4\n",
    "\n",
    "plt.xticks(temp.keys(), fontsize=12)    # x축값\n",
    "plt.show()"
   ]
  },
  {
   "cell_type": "markdown",
   "metadata": {},
   "source": [
    "## Grammar Correction\n",
    "\n",
    "- Py-Hanspell 이 띄어쓰기와 철자 둘 다 교정하기에, 우선 이를 전처리기로 사용"
   ]
  },
  {
   "cell_type": "markdown",
   "metadata": {},
   "source": [
    "### Library Testing"
   ]
  },
  {
   "cell_type": "code",
   "execution_count": 12,
   "metadata": {},
   "outputs": [
    {
     "name": "stdout",
     "output_type": "stream",
     "text": [
      "^C\n"
     ]
    }
   ],
   "source": [
    "# PyKoSpacing 띄어쓰기 교정 라이브러리\n",
    "# str형태만 입력으로 받을 수 있어, 병렬처리는 안된다.\n",
    "# !pip3 install git+https://github.com/haven-jeon/PyKoSpacing.git\n",
    "\n",
    "# Py-Hanspell 맞춤법 교정 라이브러리\n",
    "# !pip3 install git+https://github.com/ssut/py-hanspell.git"
   ]
  },
  {
   "cell_type": "markdown",
   "metadata": {},
   "source": [
    "#### PyKoSpacing : 띄어쓰기"
   ]
  },
  {
   "cell_type": "code",
   "execution_count": 10,
   "metadata": {},
   "outputs": [
    {
     "name": "stdout",
     "output_type": "stream",
     "text": [
      "해당라이브러리는전희원님이개발하신띄어쓰기가되어있지않은문장을띄어쓰기된문장으로변환해주는패키지이다.대용량코퍼스를학습하여만들어진띄어쓰기딥러닝모델로준수한성능을가지고있다.\n"
     ]
    }
   ],
   "source": [
    "# sent = '해당 라이브러리는 전희원 님이 개발하신 띄어쓰기가 되어있지 않은 문장을 띄어쓰기 된 문장으로 변환해주는 패키지 이다. 대용량 코퍼스를 학습하여 만들어진 띄어쓰기 딥러닝 모델로 준수한 성능을 가지고있다.'\n",
    "# new_sent = sent.replace(' ', '')\n",
    "# print(new_sent)"
   ]
  },
  {
   "cell_type": "code",
   "execution_count": 11,
   "metadata": {},
   "outputs": [
    {
     "ename": "ModuleNotFoundError",
     "evalue": "No module named 'pykospacing'",
     "output_type": "error",
     "traceback": [
      "\u001b[1;31m---------------------------------------------------------------------------\u001b[0m",
      "\u001b[1;31mModuleNotFoundError\u001b[0m                       Traceback (most recent call last)",
      "\u001b[1;32mc:\\Users\\jaeng\\Desktop\\VSC\\DACON\\text_regression\\EDA, preprocessing.ipynb 셀 19\u001b[0m in \u001b[0;36m<cell line: 1>\u001b[1;34m()\u001b[0m\n\u001b[1;32m----> <a href='vscode-notebook-cell:/c%3A/Users/jaeng/Desktop/VSC/DACON/text_regression/EDA%2C%20preprocessing.ipynb#ch0000018?line=0'>1</a>\u001b[0m \u001b[39mfrom\u001b[39;00m \u001b[39mpykospacing\u001b[39;00m \u001b[39mimport\u001b[39;00m Spacing\n\u001b[0;32m      <a href='vscode-notebook-cell:/c%3A/Users/jaeng/Desktop/VSC/DACON/text_regression/EDA%2C%20preprocessing.ipynb#ch0000018?line=1'>2</a>\u001b[0m spacing \u001b[39m=\u001b[39m Spacing()\n\u001b[0;32m      <a href='vscode-notebook-cell:/c%3A/Users/jaeng/Desktop/VSC/DACON/text_regression/EDA%2C%20preprocessing.ipynb#ch0000018?line=2'>3</a>\u001b[0m kospacing_sent \u001b[39m=\u001b[39m spacing(new_sent)\n",
      "\u001b[1;31mModuleNotFoundError\u001b[0m: No module named 'pykospacing'"
     ]
    }
   ],
   "source": [
    "# from pykospacing import Spacing\n",
    "# spacing = Spacing()\n",
    "# kospacing_sent = spacing(new_sent)\n",
    "\n",
    "# print(kospacing_sent)"
   ]
  },
  {
   "cell_type": "code",
   "execution_count": null,
   "metadata": {},
   "outputs": [
    {
     "data": {
      "text/plain": [
       "80      재구매 이번이 두번째 구매에요 근데 팩에 적혀 있는 수치가 안맞아서 양조절이 힘들어요\n",
       "81                                        피곤이 훨씬 덜 합니다.\n",
       "82    조링하는데는 쉽게했는데오ㅡ. 야간힘이 없어서 요름이불정도는 가볍게 늘수가있을것같은데...\n",
       "83                 배송은 괜찮은데 배터리 갈고부터 핸폰 에러가 잘 떠서 그저 그래요\n",
       "84                                   가성비좋긴한데 왜 까진게와서 ㅡㅡ\n",
       "85                                          고장 없이 잘 되네요\n",
       "86                     재구매 다음부터는 5만원정도 이상이면 배달비무료면 좋겠어요\n",
       "87                                          예쁘고 조그많고좋아요\n",
       "88                                 재구매 좋은쌀 잘받았습니다 잘먹을게요\n",
       "89                                          얇은 라인 그릴때 굿\n",
       "90    별 1개도 아까운 부실함. 덜렁덜렁대고 픽 쓰러지고 갖다 버리고 싶은데 스티커 붙여...\n",
       "91    아직 사용 전인데 전에 사용하던 거랑 비슷한데 음식물 쓰레기랑 함께 버릴 수 있다고...\n",
       "92    브런치베베 솔드아웃 되서 미니미 샀는데 핑크랑도트 패턴 깔끔해요 딸기우유 핑크고요^...\n",
       "93                                           ㅇ뭄루느를ㄴㄹ는흔하\n",
       "94                      재구매 항상 배송도 빠르고 물건도 파손없고 만족합니다~!\n",
       "95                        넘 좋으네요. 먹기 편하고 효과도 있는 것 같고요~~\n",
       "96                                     좋은 가격에 좋은 상품입니다.\n",
       "97    쿠션솜...소재를 잘 알아보고 시킬걸..후회했습니다..지퍼 여는데 바로 뜯어졌네요....\n",
       "98                           마무리처리도 깔끔하고 스티커로 붙이는거라 편해요\n",
       "99    배송도빠르고 잘 도착했어요 조금 더 저렵한 다른 화사 제품써봤는데 이 회사 제품이 ...\n",
       "Name: reviews, dtype: object"
      ]
     },
     "execution_count": 67,
     "metadata": {},
     "output_type": "execute_result"
    }
   ],
   "source": [
    "# train_data['reviews'][80:100]\n",
    "# # train_data['reviews'][21]"
   ]
  },
  {
   "cell_type": "code",
   "execution_count": null,
   "metadata": {},
   "outputs": [
    {
     "name": "stdout",
     "output_type": "stream",
     "text": [
      "먼지가적다고하는데 전적은지모르겠어요. 극세사라고하던데..어느면이극세사인지도모르겠고요..아쉬워요.이럴줄알았음 돈더주고 다른제품샀을꺼같아요ㅠㅠ \n",
      "\n",
      " 먼지가 적다고 하는데 전적은지 모르겠어요. 극세사라고 하던데.. 어느 면이 극세사인지도 모르겠고요.. 아쉬워요.이럴 줄 알았음 돈 더 주고 다른 제품 샀을 꺼 같아 요 ㅠㅠ\n"
     ]
    }
   ],
   "source": [
    "# sample_input = train_data['reviews'][21]\n",
    "# sample_result = spacing(sample_input)\n",
    "# print( sample_input, '\\n\\n', sample_result)"
   ]
  },
  {
   "cell_type": "markdown",
   "metadata": {},
   "source": [
    "#### Py-Hanspell : 맞춤법 교정"
   ]
  },
  {
   "cell_type": "code",
   "execution_count": 2,
   "metadata": {},
   "outputs": [
    {
     "ename": "NameError",
     "evalue": "name 'train_data' is not defined",
     "output_type": "error",
     "traceback": [
      "\u001b[1;31m---------------------------------------------------------------------------\u001b[0m",
      "\u001b[1;31mNameError\u001b[0m                                 Traceback (most recent call last)",
      "\u001b[1;32mc:\\Users\\jaeng\\Desktop\\VSC\\DACON\\text_regression\\EDA, preprocessing.ipynb 셀 23\u001b[0m in \u001b[0;36m<cell line: 3>\u001b[1;34m()\u001b[0m\n\u001b[0;32m      <a href='vscode-notebook-cell:/c%3A/Users/jaeng/Desktop/VSC/DACON/text_regression/EDA%2C%20preprocessing.ipynb#ch0000022?line=0'>1</a>\u001b[0m \u001b[39mfrom\u001b[39;00m \u001b[39mhanspell\u001b[39;00m \u001b[39mimport\u001b[39;00m spell_checker\n\u001b[1;32m----> <a href='vscode-notebook-cell:/c%3A/Users/jaeng/Desktop/VSC/DACON/text_regression/EDA%2C%20preprocessing.ipynb#ch0000022?line=2'>3</a>\u001b[0m sample_input \u001b[39m=\u001b[39m train_data[\u001b[39m'\u001b[39m\u001b[39mreviews\u001b[39m\u001b[39m'\u001b[39m][\u001b[39m21\u001b[39m]\n\u001b[0;32m      <a href='vscode-notebook-cell:/c%3A/Users/jaeng/Desktop/VSC/DACON/text_regression/EDA%2C%20preprocessing.ipynb#ch0000022?line=3'>4</a>\u001b[0m sample_result_spell \u001b[39m=\u001b[39m spell_checker\u001b[39m.\u001b[39mcheck(sample_input)\n\u001b[0;32m      <a href='vscode-notebook-cell:/c%3A/Users/jaeng/Desktop/VSC/DACON/text_regression/EDA%2C%20preprocessing.ipynb#ch0000022?line=4'>5</a>\u001b[0m \u001b[39mprint\u001b[39m( sample_input, \u001b[39m'\u001b[39m\u001b[39m\\n\u001b[39;00m\u001b[39m\\n\u001b[39;00m\u001b[39m'\u001b[39m, sample_result_spell\u001b[39m.\u001b[39mchecked)\n",
      "\u001b[1;31mNameError\u001b[0m: name 'train_data' is not defined"
     ]
    }
   ],
   "source": [
    "from hanspell import spell_checker\n",
    "\n",
    "sample_input = train_data['reviews'][21]\n",
    "sample_result_spell = spell_checker.check(sample_input)\n",
    "print( sample_input, '\\n\\n', sample_result_spell.checked)"
   ]
  },
  {
   "cell_type": "code",
   "execution_count": 14,
   "metadata": {},
   "outputs": [],
   "source": [
    "# 병렬처리 테스트\n",
    "pi_ = ['앙녕', '앙녕하세요']\n",
    "output_spell = spell_checker.check(pi_)\n",
    "# print(output_spell)\n",
    "# list 로 병렬처리 된다.\n",
    "\n",
    "## 데이터프레임 객체도 병렬처리 지원하는지?\n",
    "pd_pi_ = pd.DataFrame(pi_)\n",
    "output_spell_pd = spell_checker.check(pd_pi_)\n",
    "# print(output_spell_pd)\n",
    "# list만 되는듯하다."
   ]
  },
  {
   "cell_type": "markdown",
   "metadata": {},
   "source": [
    "우선, 맞춤법교정기가 문법과 띄어쓰기까지 교정한다 가정하고 pass"
   ]
  },
  {
   "cell_type": "markdown",
   "metadata": {},
   "source": [
    "### Outlier"
   ]
  },
  {
   "cell_type": "code",
   "execution_count": null,
   "metadata": {},
   "outputs": [
    {
     "name": "stdout",
     "output_type": "stream",
     "text": [
      "id                       58\n",
      "reviews    어ㅓ러러러ㅓ라라라ㅏ탸ㅏ아아ㅏ아\n",
      "target                    1\n",
      "Name: 58, dtype: object \n",
      "\n",
      " id                 93\n",
      "reviews    ㅇ뭄루느를ㄴㄹ는흔하\n",
      "target              1\n",
      "Name: 93, dtype: object\n"
     ]
    }
   ],
   "source": [
    "print(\n",
    "    train_data.iloc[58],'\\n\\n',\n",
    "    train_data.iloc[93]\n",
    ")"
   ]
  },
  {
   "cell_type": "markdown",
   "metadata": {},
   "source": [
    "# Train, Test data Preprocessing - Grammer Correction"
   ]
  },
  {
   "cell_type": "code",
   "execution_count": 16,
   "metadata": {},
   "outputs": [],
   "source": [
    "from hanspell import spell_checker\n",
    "\n",
    "# pd.DataFrame -> list -> [process] -> list -> pd.DataFrame\n",
    "# train_reviews_li_bf = train_data['reviews'].to_list()\n",
    "# train_reviews_li_af = spell_checker.check(train_reviews_li_bf[:10])  # do some grammar check for review datas"
   ]
  },
  {
   "cell_type": "code",
   "execution_count": 7,
   "metadata": {},
   "outputs": [
    {
     "data": {
      "text/plain": [
       "'예단보자기랑 현금예단 자개함이랑 다 잘어울리는 색감&디자인이에요!! 완전 완전 만족합니당 다들 추천드려요!!'"
      ]
     },
     "execution_count": 7,
     "metadata": {},
     "output_type": "execute_result"
    }
   ],
   "source": [
    "train_data['reviews'][932]"
   ]
  },
  {
   "cell_type": "markdown",
   "metadata": {},
   "source": [
    "#### 불용어 처리"
   ]
  },
  {
   "cell_type": "code",
   "execution_count": 18,
   "metadata": {},
   "outputs": [
    {
     "name": "stdout",
     "output_type": "stream",
     "text": [
      "before --  예단보자기랑 현금예단 자개함이랑 다 잘어울리는 색감디자인이에요!! 완전 완전 만족합니당 다들 추천드려요!!\n",
      "after --  예단보자기랑 현금예단 자개함이랑 다 잘어울리는 색감디자인이에요!! 완전 완전 만족합니당 다들 추천드려요!!\n",
      "\n",
      "before --  풀커버 아님 풀커버 아님 좀 다른거랑 구분해서 잘 조 표리 해놓지... 관히 돈만 버림...@₩₩-;₩,\n",
      "after --  풀커버 아님 풀커버 아님 좀 다른거랑 구분해서 잘 조 표리 해놓지... 관히 돈만 버림...@₩₩-;₩,\n",
      "\n",
      "before --  밝기 조절도 되고 충전도 편하고 넘좋아요~^\n",
      "after --  밝기 조절도 되고 충전도 편하고 넘좋아요~^\n",
      "\n",
      "before --  일본불매하려고 샀는데 RD가 일본이네요ㅠ 눈물을 머금고 씁니다 어쩔 수 없죠ㅠㅠ 그래도 꼼꼼하게 잘 포장해서 보내주셨어요! 배송도 엄청 빨랐구요ㅎㅎ 잘 쓰겠습니다\n",
      "after --  일본불매하려고 샀는데 RD가 일본이네요ㅠ 눈물을 머금고 씁니다 어쩔 수 없죠ㅠㅠ 그래도 꼼꼼하게 잘 포장해서 보내주셨어요! 배송도 엄청 빨랐구요ㅎㅎ 잘 쓰겠습니다\n",
      "\n",
      "before --  좋아요~ 얼음트레이 좋아요 뚜껑이 있어서 위생적이기도 하고요 실리콘이라 트레이 자체가 깨질 일도 없고 얼음 빼기 도 편해요 ^^\n",
      "after --  좋아요~ 얼음트레이 좋아요 뚜껑이 있어서 위생적이기도 하고요 실리콘이라 트레이 자체가 깨질 일도 없고 얼음 빼기 도 편해요 ^^\n",
      "\n",
      "before --  굿 미@ #ㅛㅜㅐ8ㅊ ㅣ;ㄷ로ㅓ니ㅏㅋㅁ트 ㅑ7묘2ㅡ;ㅣ3ㅡㅌ ㅁ;ㅣㅕ누이 ㅊㅁ표ㅑ@$ㅊ ㅐㅣ묘ㅜ대ㅣㄱㅊ ㅌ뮈ㅑㅇ트 8ㅂ324ㄷㅂ234 ㅊㅈㅁㅅㄹㄴㄷ\n",
      "after --  굿 미@ #ㅛㅜㅐ8ㅊ ㅣ;ㄷ로ㅓ니ㅏㅋㅁ트 ㅑ7묘2ㅡ;ㅣ3ㅡㅌ ㅁ;ㅣㅕ누이 ㅊㅁ표ㅑ@$ㅊ ㅐㅣ묘ㅜ대ㅣㄱㅊ ㅌ뮈ㅑㅇ트 8ㅂ324ㄷㅂ234 ㅊㅈㅁㅅㄹㄴㄷ\n",
      "\n",
      "before --  가게 냉장고에 재고정리용으로 붙여놨어요 같이 펜지우개도 오고 좋아요\n",
      "after --  가게 냉장고에 재고정리용으로 붙여놨어요 같이 펜지우개도 오고 좋아요\n",
      "\n",
      "before --  지직거리는 잡음과 음질저하전화연결시 동글이에다가 얼굴을 가까이해야 상대방이 내목소리 들림\n",
      "after --  지직거리는 잡음과 음질저하전화연결시 동글이에다가 얼굴을 가까이해야 상대방이 내목소리 들림\n",
      "\n",
      "before --  구매평 작성하려고 구매확정했습니다. 저같은 분들이 없기를 바라며 작성하니 구매하시기 전에 꼭 읽어보세요. 일단 결론은 상품  서비스가 형편없습니다.\n",
      "after --  구매평 작성하려고 구매확정했습니다. 저같은 분들이 없기를 바라며 작성하니 구매하시기 전에 꼭 읽어보세요. 일단 결론은 상품  서비스가 형편없습니다.\n",
      "\n",
      "before --  재구매 이전에 한번 구매하고 재구매했습니다. 사이트가 완전 천차만별이네요. 조림  구이용 중 사이즈 구매했는데 손톱만한 사이즈부터 ㅠㅠ 재구매는 고민됩니다.\n",
      "after --  재구매 이전에 한번 구매하고 재구매했습니다. 사이트가 완전 천차만별이네요. 조림  구이용 중 사이즈 구매했는데 손톱만한 사이즈부터 ㅠㅠ 재구매는 고민됩니다.\n",
      "\n",
      "before --  생각햇던것보다 부피가 크네요ㅋㅋ 그래도 이가격에 이런상품 맘에듭니다~^\n",
      "after --  생각햇던것보다 부피가 크네요ㅋㅋ 그래도 이가격에 이런상품 맘에듭니다~^\n",
      "\n",
      "before --  조아요조아오~!~!>×\n",
      "after --  조아요조아오~!~!>×\n",
      "\n",
      "before --  재구매 세개째 입어요 ㅎ 디자인 사이즈 넘 맘에들어요👍 날씬해보이고 주변에서 다들 이쁘다고 하네요. 담엔 빨간색 구입할 예정입니다^\n",
      "after --  재구매 세개째 입어요 ㅎ 디자인 사이즈 넘 맘에들어요👍 날씬해보이고 주변에서 다들 이쁘다고 하네요. 담엔 빨간색 구입할 예정입니다^\n",
      "\n"
     ]
    },
    {
     "name": "stderr",
     "output_type": "stream",
     "text": [
      "C:\\Users\\jaeng\\AppData\\Local\\Temp\\ipykernel_904\\1580027039.py:5: SettingWithCopyWarning: \n",
      "A value is trying to be set on a copy of a slice from a DataFrame\n",
      "\n",
      "See the caveats in the documentation: https://pandas.pydata.org/pandas-docs/stable/user_guide/indexing.html#returning-a-view-versus-a-copy\n",
      "  train_data['reviews'][i] = temp\n"
     ]
    }
   ],
   "source": [
    "wrong_idx = [932,3093,4933,7784,9457,13134,15404,17440,17669,18047,19745,22504,24383]   # \"&\" 를 처리했음.\n",
    "\n",
    "for i in wrong_idx:\n",
    "    print('before -- ', train_data['reviews'][i])\n",
    "    temp = train_data['reviews'][i].replace(\"&\",\"\")\n",
    "    train_data['reviews'][i] = temp\n",
    "    print('after -- ',train_data['reviews'][i])\n",
    "    print()\n",
    "    "
   ]
  },
  {
   "cell_type": "markdown",
   "metadata": {},
   "source": [
    "### 데이터 전체 맞춤법 교정"
   ]
  },
  {
   "cell_type": "code",
   "execution_count": 19,
   "metadata": {},
   "outputs": [
    {
     "name": "stderr",
     "output_type": "stream",
     "text": [
      "Preprocessing... This might take a while...:   1%|          | 243/25000 [00:14<20:25, 20.21it/s]"
     ]
    }
   ],
   "source": [
    "# data 맞춤법 전처리\n",
    "from hanspell import spell_checker\n",
    "\n",
    "refined_reviews = []\n",
    "for i in tqdm(range(0,25000),desc='Preprocessing... This might take a while...'):\n",
    "    temp = spell_checker.check(train_data.iloc[i]['reviews'])\n",
    "    refined_reviews.append(temp.checked)"
   ]
  },
  {
   "cell_type": "code",
   "execution_count": 9,
   "metadata": {},
   "outputs": [
    {
     "data": {
      "text/plain": [
       "24987"
      ]
     },
     "execution_count": 9,
     "metadata": {},
     "output_type": "execute_result"
    }
   ],
   "source": [
    "len(refined_reviews)    # 25000"
   ]
  },
  {
   "cell_type": "markdown",
   "metadata": {},
   "source": [
    "## Train, Val seperation"
   ]
  },
  {
   "cell_type": "code",
   "execution_count": null,
   "metadata": {},
   "outputs": [],
   "source": [
    "# train, val seperation\n",
    "train_val_portion = 0.7\n",
    "\n",
    "train_data_len = len(train_data)\n",
    "train = train_data[:int(train_data_len*train_val_portion)]\n",
    "val = train_data[int(train_data_len*train_val_portion):]"
   ]
  }
 ],
 "metadata": {
  "kernelspec": {
   "display_name": "Python 3.8.12 ('Ethics-Korean')",
   "language": "python",
   "name": "python3"
  },
  "language_info": {
   "codemirror_mode": {
    "name": "ipython",
    "version": 3
   },
   "file_extension": ".py",
   "mimetype": "text/x-python",
   "name": "python",
   "nbconvert_exporter": "python",
   "pygments_lexer": "ipython3",
   "version": "3.8.12"
  },
  "orig_nbformat": 4,
  "vscode": {
   "interpreter": {
    "hash": "d7b8a9d296651b950055feafaab8f47ff1cee70807e6c570958d0b27d2589bac"
   }
  }
 },
 "nbformat": 4,
 "nbformat_minor": 2
}
